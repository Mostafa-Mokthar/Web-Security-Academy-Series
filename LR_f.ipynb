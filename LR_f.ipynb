{
  "nbformat": 4,
  "nbformat_minor": 0,
  "metadata": {
    "colab": {
      "provenance": [],
      "include_colab_link": true
    },
    "kernelspec": {
      "name": "python3",
      "display_name": "Python 3"
    },
    "language_info": {
      "name": "python"
    }
  },
  "cells": [
    {
      "cell_type": "markdown",
      "metadata": {
        "id": "view-in-github",
        "colab_type": "text"
      },
      "source": [
        "<a href=\"https://colab.research.google.com/github/Mostafa-Mokthar/Web-Security-Academy-Series/blob/main/LR_f.ipynb\" target=\"_parent\"><img src=\"https://colab.research.google.com/assets/colab-badge.svg\" alt=\"Open In Colab\"/></a>"
      ]
    },
    {
      "cell_type": "markdown",
      "source": [
        "LR Model"
      ],
      "metadata": {
        "id": "xq999AbTUSlD"
      }
    },
    {
      "cell_type": "code",
      "source": [
        "import numpy as np\n",
        "import matplotlib.pyplot as plt\n"
      ],
      "metadata": {
        "id": "vFh7MuCAUdhi"
      },
      "execution_count": null,
      "outputs": []
    },
    {
      "cell_type": "code",
      "execution_count": null,
      "metadata": {
        "id": "C37IT-KOUJGp"
      },
      "outputs": [],
      "source": [
        "x = [4,7,8,10,15,23,26,37,43,50,67,79,90,111,150,151,180]\n",
        "x = np.array(x)\n",
        "y = [1,10,14,34,44,36,22,67,79,90,102,112,126,160,190,202,210]\n",
        "y = np.array(y)"
      ]
    },
    {
      "cell_type": "code",
      "source": [
        "plt.scatter(x,y)\n"
      ],
      "metadata": {
        "colab": {
          "base_uri": "https://localhost:8080/",
          "height": 282
        },
        "id": "umoZJMRiUrLp",
        "outputId": "681e8c4b-f335-44d5-9245-593a1be406c8"
      },
      "execution_count": null,
      "outputs": [
        {
          "output_type": "execute_result",
          "data": {
            "text/plain": [
              "<matplotlib.collections.PathCollection at 0x7f5e9c1bcd30>"
            ]
          },
          "metadata": {},
          "execution_count": 64
        },
        {
          "output_type": "display_data",
          "data": {
            "text/plain": [
              "<Figure size 432x288 with 1 Axes>"
            ],
            "image/png": "[encoded data removed]"
          },
          "metadata": {
            "needs_background": "light"
          }
        }
      ]
    },
    {
      "cell_type": "code",
      "source": [
        "def model(a, b, x):\n",
        "  return a*x + b"
      ],
      "metadata": {
        "id": "-qhhGDZlVTLV"
      },
      "execution_count": null,
      "outputs": []
    },
    {
      "cell_type": "code",
      "source": [
        "def loss_function(a, b, x, y):\n",
        "  num = len(x)\n",
        "  prediction=model(a,b,x)\n",
        "  return (0.5/num) * (np.square(prediction-y)).sum()"
      ],
      "metadata": {
        "id": "IfomolgsVbM5"
      },
      "execution_count": null,
      "outputs": []
    },
    {
      "cell_type": "code",
      "source": [
        "def optimize(a,b,x,y):\n",
        "  num = len(x)\n",
        "  prediction = model(a,b,x)\n",
        " #Update the values of A and B by finding the partial derivatives of the loss function on a and b\n",
        "  da = (1.0/num) * ((prediction -y)*x).sum()\n",
        "  db = (1.0/num) * ((prediction -y).sum())*1\n",
        "  a = a - Lr*da\n",
        "  b = b - Lr*db\n",
        "  return a, b"
      ],
      "metadata": {
        "id": "3PeRpu_2Waw-"
      },
      "execution_count": null,
      "outputs": []
    },
    {
      "cell_type": "code",
      "source": [
        "def iterate(a,b,x,y,times):\n",
        "  for i in range(times):\n",
        "    a,b = optimize(a,b,x,y)\n",
        "  return a,b"
      ],
      "metadata": {
        "id": "ApHbJ0LvW5Vx"
      },
      "execution_count": null,
      "outputs": []
    },
    {
      "cell_type": "code",
      "source": [
        "a = np.random.rand(1)\n",
        "print(a)\n",
        "b = np.random.rand(1)\n",
        "print(b)\n",
        "Lr = 1e-4"
      ],
      "metadata": {
        "colab": {
          "base_uri": "https://localhost:8080/"
        },
        "id": "CY095SZXXMIB",
        "outputId": "a8d82fe1-52a2-4627-df01-2cbd2081bd51"
      },
      "execution_count": null,
      "outputs": [
        {
          "output_type": "stream",
          "name": "stdout",
          "text": [
            "[0.02250434]\n",
            "[0.60980543]\n"
          ]
        }
      ]
    },
    {
      "cell_type": "code",
      "source": [
        "a,b = iterate(a,b,x,y,1)\n",
        "prediction=model(a,b,x)\n",
        "loss = loss_function(a, b, x, y)\n",
        "print(a,b,loss)\n",
        "plt.scatter(x,y)\n",
        "plt.plot(x,prediction)\n"
      ],
      "metadata": {
        "colab": {
          "base_uri": "https://localhost:8080/",
          "height": 300
        },
        "id": "qdBmCPMdX-qc",
        "outputId": "bd2ed2f9-5874-4aac-ebd0-5d107e3bac37"
      },
      "execution_count": null,
      "outputs": [
        {
          "output_type": "stream",
          "name": "stdout",
          "text": [
            "[0.91244221] [0.61842297] 691.280408992392\n"
          ]
        },
        {
          "output_type": "execute_result",
          "data": {
            "text/plain": [
              "[<matplotlib.lines.Line2D at 0x7f5e9c12ca00>]"
            ]
          },
          "metadata": {},
          "execution_count": 70
        },
        {
          "output_type": "display_data",
          "data": {
            "text/plain": [
              "<Figure size 432x288 with 1 Axes>"
            ],
            "image/png": "[encoded data removed]"
          },
          "metadata": {
            "needs_background": "light"
          }
        }
      ]
    },
    {
      "cell_type": "code",
      "source": [
        "a,b = iterate(a,b,x,y,20)\n",
        "prediction=model(a,b,x)\n",
        "loss = loss_function(a, b, x, y)\n",
        "print(a,b,loss)\n",
        "plt.scatter(x,y)\n",
        "plt.plot(x,prediction)"
      ],
      "metadata": {
        "colab": {
          "base_uri": "https://localhost:8080/",
          "height": 304
        },
        "id": "sPan9UZfYcKS",
        "outputId": "7e396e48-e3e8-4711-9401-d0e9b25d33a4"
      },
      "execution_count": null,
      "outputs": [
        {
          "output_type": "stream",
          "name": "stdout",
          "text": [
            "[1.32376694] [0.65344076] 111.84215077751223\n"
          ]
        },
        {
          "output_type": "execute_result",
          "data": {
            "text/plain": [
              "[<matplotlib.lines.Line2D at 0x7f5e97fcc0d0>]"
            ]
          },
          "metadata": {},
          "execution_count": 72
        },
        {
          "output_type": "display_data",
          "data": {
            "text/plain": [
              "<Figure size 432x288 with 1 Axes>"
            ],
            "image/png": "[encoded data removed]"
          },
          "metadata": {
            "needs_background": "light"
          }
        }
      ]
    }
  ]
}